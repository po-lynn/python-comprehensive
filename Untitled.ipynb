{
 "cells": [
  {
   "cell_type": "code",
   "execution_count": 2,
   "id": "0903579d-095b-4783-b4fa-ccfd9927570b",
   "metadata": {},
   "outputs": [
    {
     "name": "stdout",
     "output_type": "stream",
     "text": [
      "True\n"
     ]
    }
   ],
   "source": [
    "str = 'hello, world'\n",
    "print(\"wo\" in str)"
   ]
  },
  {
   "cell_type": "code",
   "execution_count": 3,
   "id": "a29c6fbf-81b7-4c59-81bc-2279e85fa34e",
   "metadata": {},
   "outputs": [
    {
     "name": "stdout",
     "output_type": "stream",
     "text": [
      "Hello, world!\n"
     ]
    }
   ],
   "source": [
    "str = 'hello, world!'\n",
    "print(str.capitalize())"
   ]
  },
  {
   "cell_type": "code",
   "execution_count": 4,
   "id": "48e67865-8d46-4dbd-b3ce-4d1265a14a81",
   "metadata": {},
   "outputs": [
    {
     "name": "stdout",
     "output_type": "stream",
     "text": [
      "Comes With Strings, Any Strings Has This Method Built-In !\n"
     ]
    }
   ],
   "source": [
    "\n",
    "str = 'comes with strings, any strings has this method built-in !'\n",
    "print(str.title())"
   ]
  },
  {
   "cell_type": "code",
   "execution_count": 8,
   "id": "f746e94d-7a1f-436c-8317-1f07e4ddc4a0",
   "metadata": {},
   "outputs": [
    {
     "name": "stdout",
     "output_type": "stream",
     "text": [
      "1\n",
      "2\n",
      "6\n",
      "24\n",
      "120\n"
     ]
    }
   ],
   "source": [
    "j =1\n",
    "for i in range(1,5+1):\n",
    "   j = j*i\n",
    "   print(j)"
   ]
  },
  {
   "cell_type": "code",
   "execution_count": 8,
   "id": "08b640aa",
   "metadata": {},
   "outputs": [
    {
     "name": "stdout",
     "output_type": "stream",
     "text": [
      "hello, GCA\n"
     ]
    }
   ],
   "source": [
    "hello(\"GCA\")\n",
    "\n",
    "def hello(name):\n",
    "  print(\"hello,\",name)"
   ]
  },
  {
   "attachments": {},
   "cell_type": "markdown",
   "id": "248c2cbc",
   "metadata": {},
   "source": []
  },
  {
   "cell_type": "code",
   "execution_count": null,
   "id": "162af2d1",
   "metadata": {},
   "outputs": [],
   "source": []
  },
  {
   "cell_type": "code",
   "execution_count": null,
   "id": "a359e90a",
   "metadata": {},
   "outputs": [],
   "source": [
    "Module 1: Introduction to the Python Standard Library\n",
    "The Python Standard Library is a collection of modules that come bundled with Python. These modules provide a wide range of functionality, including file input/output, operating system interface, regular expressions, and more. Here are a few examples of commonly used modules in the Python Standard Library:\n",
    "\n",
    "os: This module provides a way of using operating system dependent functionality like reading or writing to the file system. For example, to get the current working directory, you can use the os.getcwd() method:\n",
    "python\n",
    "Copy code\n",
    "import os\n",
    "print(os.getcwd())  # prints the current working directory\n",
    "sys: This module provides access to some variables used or maintained by the interpreter and to functions that interact strongly with the interpreter. For example, to get the command line arguments passed to a Python script, you can use the sys.argv variable:\n",
    "python\n",
    "Copy code\n",
    "import sys\n",
    "print(sys.argv)  # prints the command line arguments passed to the script\n",
    "datetime: This module supplies classes for working with dates and times. For example, to get the current date and time, you can use the datetime.datetime.now() method:\n",
    "python\n",
    "Copy code\n",
    "import datetime\n",
    "print(datetime.datetime.now())  # prints the current date and time\n",
    "Module 2: Creating Custom Libraries\n",
    "Creating custom libraries in Python is a great way to reuse code across different projects or share your code with others. You can create custom libraries by defining functions and classes in Python modules. Here's an example of a simple custom library that defines a function for calculating the factorial of a number:\n",
    "\n",
    "python\n",
    "Copy code\n",
    "# custom_library.py\n",
    "\n",
    "def factorial(n):\n",
    "    if n == 0:\n",
    "        return 1\n",
    "    else:\n",
    "        return n * factorial(n-1)\n",
    "You can use this custom library in another Python script by importing it like this:\n",
    "\n",
    "python\n",
    "Copy code\n",
    "import custom_library\n",
    "\n",
    "print(custom_library.factorial(5))  # prints 120\n",
    "Module 3: Serialization and Deserialization\n",
    "Serialization is the process of converting a Python data structure into a format that can be stored or transmitted over a network. Deserialization is the reverse process of converting the serialized data back into a Python data structure. Here are a few examples of popular serialization and deserialization formats in Python:\n",
    "\n",
    "JSON: JSON is a lightweight data interchange format that is easy for humans to read and write and easy for machines to parse and generate. Here's an example of how to serialize a Python dictionary into a JSON string:\n",
    "python\n",
    "Copy code\n",
    "import json\n",
    "\n",
    "data = {\n",
    "    \"name\": \"Alice\",\n",
    "    \"age\": 30,\n",
    "    \"city\": \"New York\"\n",
    "}\n",
    "\n",
    "json_data = json.dumps(data)  # serialize the dictionary to a JSON string\n",
    "print(json_data)  # prints '{\"name\": \"Alice\", \"age\": 30, \"city\": \"New York\"}'\n",
    "You can deserialize the JSON string back into a Python dictionary like this:\n",
    "\n",
    "python\n",
    "Copy code\n",
    "data = json.loads(json_data)  # deserialize the JSON string to a dictionary\n",
    "print(data[\"name\"])  # prints \"Alice\"\n",
    "XML: XML is another popular format for serializing data. It's often used in web services and other distributed systems. Here's an example of how to serialize a Python dictionary into an XML string:\n",
    "python\n",
    "Copy code\n",
    "import xml.etree.ElementTree as ET\n",
    "\n",
    "data = {\n",
    "    \"name\": \"Alice\",\n",
    "    \"age\": 30,\n",
    "    \"city\": \"New York\"\n",
    "}\n",
    "\n",
    "root = ET.Element(\"data\")\n",
    "for key, value in data.items():\n",
    "    child = ET.Element(key)\n",
    "    child.text = str(value)\n",
    "    root.append(child)\n",
    "\n",
    "xml"
   ]
  },
  {
   "cell_type": "code",
   "execution_count": 1,
   "id": "0eec63d6",
   "metadata": {},
   "outputs": [
    {
     "name": "stdout",
     "output_type": "stream",
     "text": [
      "HELLO\n"
     ]
    }
   ],
   "source": [
    "print(\"HELLO\")"
   ]
  }
 ],
 "metadata": {
  "kernelspec": {
   "display_name": "envjupyter",
   "language": "python",
   "name": "python3"
  },
  "language_info": {
   "codemirror_mode": {
    "name": "ipython",
    "version": 3
   },
   "file_extension": ".py",
   "mimetype": "text/x-python",
   "name": "python",
   "nbconvert_exporter": "python",
   "pygments_lexer": "ipython3",
   "version": "3.8.10"
  },
  "toc-autonumbering": true,
  "toc-showcode": true,
  "vscode": {
   "interpreter": {
    "hash": "ce79aa35ec2a9760923af67eba1a693beb914e7f78245b5133738d3710bda7b3"
   }
  }
 },
 "nbformat": 4,
 "nbformat_minor": 5
}
