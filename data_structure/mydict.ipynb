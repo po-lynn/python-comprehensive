{
 "cells": [
  {
   "cell_type": "code",
   "execution_count": 3,
   "metadata": {},
   "outputs": [
    {
     "name": "stdout",
     "output_type": "stream",
     "text": [
      "True False\n"
     ]
    },
    {
     "data": {
      "text/plain": [
       "{'name': 'John',\n",
       " 'age': 20,\n",
       " 'weight': 60,\n",
       " 'office': 'GCA',\n",
       " 'tel': '13122334455',\n",
       " 'signature': 'My Signature'}"
      ]
     },
     "execution_count": 3,
     "metadata": {},
     "output_type": "execute_result"
    }
   ],
   "source": [
    "person = {'name': 'John', 'age': 20, 'weight': 60, 'office': 'GCA'}\n",
    "print('name' in person, 'tel' in person) \n",
    "person['tel'] = '13122334455'\n",
    "person['signature'] = 'My Signature'\n",
    "person"
   ]
  },
  {
   "cell_type": "code",
   "execution_count": 6,
   "metadata": {},
   "outputs": [
    {
     "name": "stdout",
     "output_type": "stream",
     "text": [
      "dict_keys([1001, 1002, 1003])\n",
      "dict_values([{'name': 'John', 'sex': True, 'age': 22, 'place': 'Hlaing'}, {'name': 'Doe', 'sex': True, 'age': 23, 'place': 'SouthOkkalar'}, {'name': 'Steve', 'sex': False, 'age': 20, 'place': 'NorthOkkalar'}])\n"
     ]
    }
   ],
   "source": [
    "students = {\n",
    "    1001: {'name': 'John', 'sex': True, 'age': 22, 'place': 'Hlaing'},\n",
    "    1002: {'name': 'Doe', 'sex': True, 'age': 23, 'place': 'SouthOkkalar'},\n",
    "    1003: {'name': 'Steve', 'sex': False, 'age': 20, 'place': 'NorthOkkalar'}\n",
    "}\n",
    "# Get all the keys in the dictionary\n",
    "print(students.keys())      # dict_keys([1001, 1002, 1003])\n",
    "# Get all the values in the dictionary\n",
    "print(students.values())    # dict_values([{...}, {...}, {...}])"
   ]
  },
  {
   "cell_type": "code",
   "execution_count": 7,
   "metadata": {},
   "outputs": [
    {
     "name": "stdout",
     "output_type": "stream",
     "text": [
      "{'name': 'Doe', 'sex': True, 'age': 23, 'place': 'SouthOkkalar'}\n"
     ]
    }
   ],
   "source": [
    "print(students.get(1002))"
   ]
  }
 ],
 "metadata": {
  "kernelspec": {
   "display_name": "envjupyter",
   "language": "python",
   "name": "python3"
  },
  "language_info": {
   "codemirror_mode": {
    "name": "ipython",
    "version": 3
   },
   "file_extension": ".py",
   "mimetype": "text/x-python",
   "name": "python",
   "nbconvert_exporter": "python",
   "pygments_lexer": "ipython3",
   "version": "3.8.10"
  },
  "orig_nbformat": 4,
  "vscode": {
   "interpreter": {
    "hash": "ce79aa35ec2a9760923af67eba1a693beb914e7f78245b5133738d3710bda7b3"
   }
  }
 },
 "nbformat": 4,
 "nbformat_minor": 2
}
